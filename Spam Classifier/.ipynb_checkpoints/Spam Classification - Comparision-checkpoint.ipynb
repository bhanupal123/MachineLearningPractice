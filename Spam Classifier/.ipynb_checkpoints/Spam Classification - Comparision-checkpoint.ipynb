{
 "cells": [
  {
   "cell_type": "markdown",
   "metadata": {},
   "source": [
    "# Spam Classification - Comparision\n",
    "---"
   ]
  },
  {
   "cell_type": "code",
   "execution_count": 166,
   "metadata": {
    "collapsed": true
   },
   "outputs": [],
   "source": [
    "#load the libraries\n",
    "import numpy as np\n",
    "import pandas as pd\n",
    "import matplotlib.pyplot as plt\n",
    "import seaborn as sns\n",
    "from sklearn.linear_model import LogisticRegression\n",
    "from sklearn.naive_bayes import GaussianNB\n",
    "from sklearn.metrics import accuracy_score,confusion_matrix\n",
    "%matplotlib inline"
   ]
  },
  {
   "cell_type": "code",
   "execution_count": 167,
   "metadata": {
    "collapsed": true
   },
   "outputs": [],
   "source": [
    "#load the dataset\n",
    "f=open(\"spambase.data\")\n",
    "data=np.loadtxt(fname=f, delimiter=',').astype(float)"
   ]
  },
  {
   "cell_type": "code",
   "execution_count": 168,
   "metadata": {
    "collapsed": false
   },
   "outputs": [],
   "source": [
    "#plot relations between the attributes\n",
    "#for j in range(11):\n",
    "#    df=pd.DataFrame(data=data[:,5*j:5*(j+1)], index=[i+1 for i in range(data.shape[0])], columns=[5*j+i+1 for i in range(5)])\n",
    "#    sns.pairplot(df)"
   ]
  },
  {
   "cell_type": "markdown",
   "metadata": {},
   "source": [
    "Based on the pairplots, it can be shown attributes 24,31,33,35,42 are highly correlated to other attributes already present in the classifier. So we remove them from the dataset. But the effect is minimal, so we drop the idea."
   ]
  },
  {
   "cell_type": "code",
   "execution_count": 169,
   "metadata": {
    "collapsed": false
   },
   "outputs": [],
   "source": [
    "#data=np.delete(data,[24,31,33,35,42],1)"
   ]
  },
  {
   "cell_type": "code",
   "execution_count": 170,
   "metadata": {
    "collapsed": false
   },
   "outputs": [
    {
     "data": {
      "text/plain": [
       "(4601, 58)"
      ]
     },
     "execution_count": 170,
     "metadata": {},
     "output_type": "execute_result"
    }
   ],
   "source": [
    "data.shape"
   ]
  },
  {
   "cell_type": "code",
   "execution_count": 171,
   "metadata": {
    "collapsed": false
   },
   "outputs": [
    {
     "name": "stdout",
     "output_type": "stream",
     "text": [
      "Shape of the features - \n",
      "(4601, 57) <class 'numpy.ndarray'>\n",
      "Shape of the targets - \n",
      "(4601,) <class 'numpy.ndarray'>\n"
     ]
    }
   ],
   "source": [
    "#divide the data into features and target\n",
    "X=data[:,:57]\n",
    "Y=data[:,57].astype(int)\n",
    "\n",
    "#Shape of features and target\n",
    "print(\"Shape of the features - \")\n",
    "print(X.shape, type(X))\n",
    "\n",
    "print(\"Shape of the targets - \")\n",
    "print(Y.shape, type(Y))"
   ]
  },
  {
   "cell_type": "markdown",
   "metadata": {},
   "source": [
    "## Spam Classification using *Naive Bayes Classifier*\n",
    "---"
   ]
  },
  {
   "cell_type": "code",
   "execution_count": 172,
   "metadata": {
    "collapsed": true
   },
   "outputs": [],
   "source": [
    "gnb=GaussianNB()"
   ]
  },
  {
   "cell_type": "code",
   "execution_count": 173,
   "metadata": {
    "collapsed": false
   },
   "outputs": [],
   "source": [
    "Y_pred=gnb.fit(X,Y).predict(X)"
   ]
  },
  {
   "cell_type": "code",
   "execution_count": 174,
   "metadata": {
    "collapsed": false
   },
   "outputs": [
    {
     "name": "stdout",
     "output_type": "stream",
     "text": [
      "Number of mislabeled points in the set out of a total 4601 points : 815\n"
     ]
    }
   ],
   "source": [
    "print(\"Number of mislabeled points in the set out of a total %d points : %d\" %(X.shape[0],(Y!=Y_pred).sum()))"
   ]
  },
  {
   "cell_type": "markdown",
   "metadata": {},
   "source": [
    "---"
   ]
  },
  {
   "cell_type": "markdown",
   "metadata": {},
   "source": [
    "## Spam Classification using *Logisitic Regression*\n",
    "---"
   ]
  },
  {
   "cell_type": "code",
   "execution_count": 175,
   "metadata": {
    "collapsed": true
   },
   "outputs": [],
   "source": [
    "logreg=LogisticRegression()"
   ]
  },
  {
   "cell_type": "code",
   "execution_count": 176,
   "metadata": {
    "collapsed": true
   },
   "outputs": [],
   "source": [
    "Y_pred_log=logreg.fit(X,Y).predict(X)"
   ]
  },
  {
   "cell_type": "code",
   "execution_count": 177,
   "metadata": {
    "collapsed": false
   },
   "outputs": [
    {
     "name": "stdout",
     "output_type": "stream",
     "text": [
      "Number of mislabeled points in the set out of a total 4601 points : 315\n"
     ]
    }
   ],
   "source": [
    "print(\"Number of mislabeled points in the set out of a total %d points : %d\" %(X.shape[0],(Y!=Y_pred_log).sum()))"
   ]
  },
  {
   "cell_type": "markdown",
   "metadata": {},
   "source": [
    "---"
   ]
  },
  {
   "cell_type": "markdown",
   "metadata": {},
   "source": [
    "## Comparsions of Naive Bayes and Logistic Regression\n",
    "---"
   ]
  },
  {
   "cell_type": "code",
   "execution_count": 178,
   "metadata": {
    "collapsed": false
   },
   "outputs": [
    {
     "name": "stdout",
     "output_type": "stream",
     "text": [
      "Naive Bayes\n",
      "\n",
      "Confusion Matrix - \n",
      " [[2047  741]\n",
      " [  74 1739]]\n",
      "\n",
      "Accuracy - 0.82286\n",
      "\n",
      "Training of the Naive Bayes classifier had the following timing observations - \n",
      "100 loops, best of 3: 4.84 ms per loop\n",
      "\n",
      "Predictions made by the Naive Bayes classifier had the following timing observations - \n",
      "100 loops, best of 3: 4.08 ms per loop\n"
     ]
    }
   ],
   "source": [
    "#confusion matrix and accuracy of the predictions and significant timing features\n",
    "print(\"Naive Bayes\\n\\nConfusion Matrix - \\n\",confusion_matrix(Y, Y_pred))\n",
    "print(\"\\nAccuracy - %.5f\" %(accuracy_score(Y, Y_pred)))\n",
    "print(\"\\nTraining of the Naive Bayes classifier had the following timing observations - \")\n",
    "%timeit gnb.fit(X,Y)\n",
    "print(\"\\nPredictions made by the Naive Bayes classifier had the following timing observations - \")\n",
    "%timeit gnb.predict(X)"
   ]
  },
  {
   "cell_type": "code",
   "execution_count": 179,
   "metadata": {
    "collapsed": false
   },
   "outputs": [
    {
     "name": "stdout",
     "output_type": "stream",
     "text": [
      "Logistic Regression\n",
      "\n",
      "Confusion Matrix - \n",
      " [[2662  126]\n",
      " [ 189 1624]]\n",
      "\n",
      "Accuracy - 0.93154\n",
      "\n",
      "Training of the Logistic Regression classifier had the following timing observations - \n",
      "10 loops, best of 3: 57.3 ms per loop\n",
      "\n",
      "Predictions made by the Logistic Regression classifier had the following timing observations - \n",
      "1000 loops, best of 3: 899 µs per loop\n"
     ]
    }
   ],
   "source": [
    "#confusion matrix and accuracy of the predictions and significant timing features\n",
    "print(\"Logistic Regression\\n\\nConfusion Matrix - \\n\",confusion_matrix(Y, Y_pred_log))\n",
    "print(\"\\nAccuracy - %.5f\" %(accuracy_score(Y, Y_pred_log)))\n",
    "print(\"\\nTraining of the Logistic Regression classifier had the following timing observations - \")\n",
    "%timeit logreg.fit(X,Y)\n",
    "print(\"\\nPredictions made by the Logistic Regression classifier had the following timing observations - \")\n",
    "%timeit logreg.predict(X)"
   ]
  }
 ],
 "metadata": {
  "kernelspec": {
   "display_name": "Python 3",
   "language": "python",
   "name": "python3"
  },
  "language_info": {
   "codemirror_mode": {
    "name": "ipython",
    "version": 3
   },
   "file_extension": ".py",
   "mimetype": "text/x-python",
   "name": "python",
   "nbconvert_exporter": "python",
   "pygments_lexer": "ipython3",
   "version": "3.4.3+"
  }
 },
 "nbformat": 4,
 "nbformat_minor": 0
}
